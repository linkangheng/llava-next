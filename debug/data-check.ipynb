{
 "cells": [
  {
   "cell_type": "code",
   "execution_count": null,
   "metadata": {},
   "outputs": [],
   "source": [
    "import os\n",
    "import json\n",
    "from tqdm import tqdm\n",
    "data_root = \"/mnt/shared-storage/tenant/hypertext/kanelin/data/llava-next/\"\n",
    "json_path = os.path.join(data_root, \"Open-LLaVA-NeXT-mix1M/open-llava-next_instruct_mix1M.json\")\n",
    "\n",
    "datas = json.load(open(json_path))\n",
    "image_list = []\n",
    "for data in tqdm(datas, total = len(datas)):\n",
    "    try:\n",
    "        image_path = data['image']\n",
    "        image_list.append(os.path.join(data_root, image_path))\n",
    "    except:\n",
    "        pass\n",
    "valid_paths = []\n",
    "unvalid_paths = []\n",
    "for image_path in tqdm(image_list, total=len(image_list)):\n",
    "    if os.path.exists(image_path):\n",
    "        valid_paths.append(image_path)\n",
    "    else:\n",
    "        unvalid_paths.append(image_path)\n",
    "print(f\"Not ready: {len(unvalid_paths)}\")"
   ]
  }
 ],
 "metadata": {
  "language_info": {
   "name": "python"
  }
 },
 "nbformat": 4,
 "nbformat_minor": 2
}
